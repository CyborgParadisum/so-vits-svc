{
 "cells": [
  {
   "cell_type": "code",
   "execution_count": null,
   "metadata": {
    "collapsed": true
   },
   "outputs": [],
   "source": [
    "!nvidia-smi\n",
    "git_proxy=\"https://github.moeyy.xyz/\"\n",
    "\n",
    "%cd /root/\n",
    "!git clone {git_proxy}https://github.com/innnky/so-vits-svc -b 32k"
   ]
  },
  {
   "cell_type": "code",
   "execution_count": null,
   "outputs": [],
   "source": [
    "!apt update\n",
    "!apt upgrade\n",
    "!apt install libsndfile-dev"
   ],
   "metadata": {
    "collapsed": false
   }
  },
  {
   "cell_type": "code",
   "execution_count": null,
   "outputs": [],
   "source": [
    "#@title 安装依赖\n",
    "%cd /root/so-vits-svc\n",
    "!pip install pyworld praat-parselmouth"
   ],
   "metadata": {
    "collapsed": false
   }
  },
  {
   "cell_type": "code",
   "execution_count": null,
   "outputs": [],
   "source": [
    "#@title 下载必要模型文件\n",
    "!wget -P hubert/ {git_proxy}https://github.com/bshall/hubert/releases/download/v0.1/hubert-soft-0d54a1f4.pt\n"
   ],
   "metadata": {
    "collapsed": false
   }
  },
  {
   "cell_type": "code",
   "execution_count": null,
   "outputs": [],
   "source": [
    "ZIP_NAME=\"mikisayaka\"\n",
    "!mkdir /root/so-vits-svc/dataset_raw/mikisayaka\n",
    "!unzip -d /root/so-vits-svc/dataset_raw {ZIP_NAME}.zip"
   ],
   "metadata": {
    "collapsed": false
   }
  },
  {
   "cell_type": "code",
   "execution_count": null,
   "outputs": [],
   "source": [
    "#@title 重采样到32k/48k，根据你选择克隆的github仓库分支自动确定\n",
    "!python resample.py"
   ],
   "metadata": {
    "collapsed": false
   }
  },
  {
   "cell_type": "code",
   "execution_count": null,
   "outputs": [],
   "source": [
    "#@title 划分训练集 生成配置文件\n",
    "!python preprocess_flist_config.py"
   ],
   "metadata": {
    "collapsed": false
   }
  },
  {
   "cell_type": "code",
   "execution_count": null,
   "outputs": [],
   "source": [
    "#@title 生成hubert和f0\n",
    "!python preprocess_hubert_f0.py\n"
   ],
   "metadata": {
    "collapsed": false
   }
  },
  {
   "cell_type": "markdown",
   "source": [
    "# 训练"
   ],
   "metadata": {
    "collapsed": false
   }
  },
  {
   "cell_type": "code",
   "execution_count": null,
   "outputs": [],
   "source": [
    "#@title  选择是否将训练后的模型保存到谷歌云盘 和 是否使用预模型\n",
    "#@markdown ##选择你克隆的github仓库的分支和你最开始选的保持一致\n",
    "Clone = \"32k\" #@param [\"32k\",\"48k\"]\n",
    "\n",
    "#@markdown **首次训练下载预模型 之后继续训练则使用自己保存的记录点，无需再下载**\n",
    "\n",
    "#@markdown **使用预模型，下面打钩自动下载并启用**\n",
    "pre_pth = True #@param {type:\"boolean\"}\n",
    "if pre_pth:\n",
    "    !wget -P logs/\"{Clone}\"/ https://huggingface.co/innnky/sovits_pretrained/resolve/main/G_0.pth\n",
    "    !wget -P logs/\"{Clone}\"/ https://huggingface.co/innnky/sovits_pretrained/resolve/main/D_0.pth\n"
   ],
   "metadata": {
    "collapsed": false
   }
  },
  {
   "cell_type": "code",
   "execution_count": null,
   "outputs": [],
   "source": [
    "#@title  开始训练\n",
    "#@markdown ##选择你克隆的github仓库的分支和你最开始选的保持一致\n",
    "Clone = \"32k\" #@param [\"32k\",\"48k\"]\n",
    "\n",
    "#@markdown **开始训练**\n",
    "\n",
    "#@markdown **启用tensorboard可视化数据**\n",
    "tensorboard_on = True #@param {type:\"boolean\"}\n",
    "if tensorboard_on:\n",
    "    %load_ext tensorboard\n",
    "    %tensorboard --logdir logs/\"{Clone}\"\n",
    "\n",
    "!python train.py -c configs/config.json -m \"{Clone}\"\n",
    "# python train.py -c configs/config.json -m 32k\n"
   ],
   "metadata": {
    "collapsed": false
   }
  }
 ],
 "metadata": {
  "kernelspec": {
   "display_name": "Python 3",
   "language": "python",
   "name": "python3"
  },
  "language_info": {
   "codemirror_mode": {
    "name": "ipython",
    "version": 2
   },
   "file_extension": ".py",
   "mimetype": "text/x-python",
   "name": "python",
   "nbconvert_exporter": "python",
   "pygments_lexer": "ipython2",
   "version": "2.7.6"
  }
 },
 "nbformat": 4,
 "nbformat_minor": 0
}
